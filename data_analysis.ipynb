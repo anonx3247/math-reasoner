{
 "cells": [
  {
   "cell_type": "markdown",
   "metadata": {},
   "source": [
    "# AIME Dataset"
   ]
  },
  {
   "cell_type": "code",
   "execution_count": 1,
   "metadata": {},
   "outputs": [
    {
     "name": "stderr",
     "output_type": "stream",
     "text": [
      "/Users/neosapien/Development/math-reasoner/.venv/lib/python3.10/site-packages/tqdm/auto.py:21: TqdmWarning: IProgress not found. Please update jupyter and ipywidgets. See https://ipywidgets.readthedocs.io/en/stable/user_install.html\n",
      "  from .autonotebook import tqdm as notebook_tqdm\n"
     ]
    }
   ],
   "source": [
    "import pandas as pd\n",
    "import numpy as np\n",
    "import matplotlib.pyplot as plt\n",
    "from datasets import load_dataset"
   ]
  },
  {
   "cell_type": "code",
   "execution_count": 2,
   "metadata": {},
   "outputs": [
    {
     "name": "stderr",
     "output_type": "stream",
     "text": [
      "Generating train split: 30 examples [00:00, 5064.97 examples/s]\n"
     ]
    }
   ],
   "source": [
    "dataset = load_dataset(\"Maxwell-Jia/AIME_2024\")"
   ]
  },
  {
   "cell_type": "code",
   "execution_count": 6,
   "metadata": {},
   "outputs": [
    {
     "name": "stdout",
     "output_type": "stream",
     "text": [
      "\n",
      "Dataset structure:\n",
      "train split size: 30 examples\n",
      "\n",
      "Available columns:\n",
      "ID : Value(dtype='string', id=None)\n",
      "Problem : Value(dtype='string', id=None)\n",
      "Solution : Value(dtype='string', id=None)\n",
      "Answer : Value(dtype='int64', id=None)\n"
     ]
    }
   ],
   "source": [
    "# Get basic dataset statistics\n",
    "print(\"\\nDataset structure:\")\n",
    "for split in dataset.keys():\n",
    "    print(f\"{split} split size: {len(dataset[split])} examples\")\n",
    "\n",
    "# Display available columns\n",
    "print(\"\\nAvailable columns:\")\n",
    "for feature in dataset['train'].features.keys():\n",
    "    print(f\"{feature} : {dataset['train'].features[feature]}\")\n"
   ]
  },
  {
   "cell_type": "code",
   "execution_count": 31,
   "metadata": {},
   "outputs": [],
   "source": [
    "from IPython.display import display, Markdown\n",
    "\n",
    "def markdownize(text):\n",
    "    text = text.replace(\"\\\\[\", \"$$\")\n",
    "    text = text.replace(\"\\\\]\", \"$$\")\n",
    "    return text\n",
    "\n",
    "def show_element(id, pb, sol, ans):\n",
    "    pb = markdownize(pb)\n",
    "    sol = markdownize(sol)\n",
    "    display(Markdown(f\"**ID: {id}**\"))\n",
    "    display(Markdown(f\"**Problem:** {pb}\"))\n",
    "    display(Markdown(f\"**Solution:** {sol}\"))\n",
    "    display(Markdown(f\"**Answer:** {ans}\"))\n",
    "\n",
    "def display_n_examples(n):\n",
    "    ids = dataset['train'][:n]['ID']\n",
    "    pbs = dataset['train'][:n]['Problem']\n",
    "    sols = dataset['train'][:n]['Solution']\n",
    "    answers = dataset['train'][:n]['Answer']\n",
    "\n",
    "    for id, pb, sol, ans in zip(ids, pbs, sols, answers):\n",
    "        show_element(id, pb, sol, ans)"
   ]
  },
  {
   "cell_type": "code",
   "execution_count": 32,
   "metadata": {},
   "outputs": [
    {
     "name": "stdout",
     "output_type": "stream",
     "text": [
      "\n",
      "First few examples from training split:\n"
     ]
    },
    {
     "data": {
      "text/markdown": [
       "**ID: 2024-II-4**"
      ],
      "text/plain": [
       "<IPython.core.display.Markdown object>"
      ]
     },
     "metadata": {},
     "output_type": "display_data"
    },
    {
     "data": {
      "text/markdown": [
       "**Problem:** Let $x,y$ and $z$ be positive real numbers that satisfy the following system of equations: \n",
       "$$\\log_2\\left({x \\over yz}\\right) = {1 \\over 2}$$\n",
       "$$\\log_2\\left({y \\over xz}\\right) = {1 \\over 3}$$\n",
       "$$\\log_2\\left({z \\over xy}\\right) = {1 \\over 4}$$\n",
       "Then the value of $\\left|\\log_2(x^4y^3z^2)\\right|$ is $\\tfrac{m}{n}$ where $m$ and $n$ are relatively prime positive integers. Find $m+n$."
      ],
      "text/plain": [
       "<IPython.core.display.Markdown object>"
      ]
     },
     "metadata": {},
     "output_type": "display_data"
    },
    {
     "data": {
      "text/markdown": [
       "**Solution:** Denote $\\log_2(x) = a$, $\\log_2(y) = b$, and $\\log_2(z) = c$.\n",
       "\n",
       "Then, we have:\n",
       "$a-b-c = \\frac{1}{2}$,\n",
       "$-a+b-c = \\frac{1}{3}$,\n",
       "$-a-b+c = \\frac{1}{4}$.\n",
       "\n",
       "Now, we can solve to get $a = \\frac{-7}{24}, b = \\frac{-9}{24}, c = \\frac{-5}{12}$.\n",
       "Plugging these values in, we obtain $|4a + 3b + 2c|  = \\frac{25}{8} \\implies \\boxed{033}$."
      ],
      "text/plain": [
       "<IPython.core.display.Markdown object>"
      ]
     },
     "metadata": {},
     "output_type": "display_data"
    },
    {
     "data": {
      "text/markdown": [
       "**Answer:** 33"
      ],
      "text/plain": [
       "<IPython.core.display.Markdown object>"
      ]
     },
     "metadata": {},
     "output_type": "display_data"
    },
    {
     "data": {
      "text/markdown": [
       "**ID: 2024-II-12**"
      ],
      "text/plain": [
       "<IPython.core.display.Markdown object>"
      ]
     },
     "metadata": {},
     "output_type": "display_data"
    },
    {
     "data": {
      "text/markdown": [
       "**Problem:** Let $O(0,0), A(\\tfrac{1}{2}, 0),$ and $B(0, \\tfrac{\\sqrt{3}}{2})$ be points in the coordinate plane. Let $\\mathcal{F}$ be the family of segments $\\overline{PQ}$ of unit length lying in the first quadrant with $P$ on the $x$-axis and $Q$ on the $y$-axis. There is a unique point $C$ on $\\overline{AB}$, distinct from $A$ and $B$, that does not belong to any segment from $\\mathcal{F}$ other than $\\overline{AB}$. Then $OC^2 = \\tfrac{p}{q}$, where $p$ and $q$ are relatively prime positive integers. Find $p + q$."
      ],
      "text/plain": [
       "<IPython.core.display.Markdown object>"
      ]
     },
     "metadata": {},
     "output_type": "display_data"
    },
    {
     "data": {
      "text/markdown": [
       "**Solution:** Begin by finding the equation of the line $\\overline{AB}$: $y = -\\sqrt{3}x + \\frac{\\sqrt{3}}{2}$. Now, consider the general equation of all lines that belong to $\\mathcal{F}$. Let $P$ be located at $(a, 0)$ and $Q$ be located at $(0, b)$. With these assumptions, we may arrive at the equation $ay + bx = ab$. However, a critical condition that must be satisfied by our parameters is that $a^2 + b^2 = 1$, since the length of $\\overline{PQ} = 1$. We wish to find a point $C$ on $\\overline{AB}$ such that $\\overline{PQ}$ passes through $C$ if and only if $a = \\frac{1}{2}$. Since the property $a^2 + b^2 = 1$ implies that if $a = \\frac{1}{2}$, then $\\overline{PQ} = \\overline{AB}$, we now proceed by finding the intersection of two lines: \n",
       "\n",
       "a(-\\sqrt{3}x + \\frac{\\sqrt{3}}{2}) + x\\sqrt{1-a^2} = a\\sqrt{1-a^2}.\n",
       "After algebraic manipulations, we arrive at the equation: \n",
       "-a^4 + 2xa^3 + (-4x^2 + 3x + \\frac{1}{4})a^2 - 2xa + x^2 = 0.\n",
       "Note that $a = \\frac{1}{2}$ is a solution to this polynomial. Perform polynomial division to eliminate the extraneous solution $a = \\frac{1}{2}$. This yields: \n",
       "-a^3 + (2x - \\frac{1}{2})a^2 + (-4x^2 + 4x)a - 2x^2 = 0.\n",
       "We then plug in $a = \\frac{1}{2}$ to find the corresponding values of $x$. This results in the quadratic equation: \n",
       "16x^2 - 10x + 1 = 0.\n",
       "This is easily factored to give $x = \\frac{1}{8}, \\frac{1}{2}$. Since $x = \\frac{1}{2}$ corresponds to a point already covered by the horizontal line segment, we discard it. Thus, $x = \\frac{1}{8}$ is the only valid solution.\n",
       "Now, we substitute $x = \\frac{1}{8}$ into the equation of line $\\overline{AB}$: $y = -\\sqrt{3}x + \\frac{\\sqrt{3}}{2}$, which gives $y = \\frac{3\\sqrt{3}}{8}$.\n",
       "The distance from the origin is then given by $\\sqrt{\\frac{1}{8^2} + \\left( \\frac{3\\sqrt{3}}{8} \\right)^2} = \\sqrt{\\frac{7}{16}}$. Squaring this distance gives $\\frac{7}{16}$, so the answer is $\\boxed{23}$."
      ],
      "text/plain": [
       "<IPython.core.display.Markdown object>"
      ]
     },
     "metadata": {},
     "output_type": "display_data"
    },
    {
     "data": {
      "text/markdown": [
       "**Answer:** 23"
      ],
      "text/plain": [
       "<IPython.core.display.Markdown object>"
      ]
     },
     "metadata": {},
     "output_type": "display_data"
    },
    {
     "data": {
      "text/markdown": [
       "**ID: 2024-I-4**"
      ],
      "text/plain": [
       "<IPython.core.display.Markdown object>"
      ]
     },
     "metadata": {},
     "output_type": "display_data"
    },
    {
     "data": {
      "text/markdown": [
       "**Problem:** Jen enters a lottery by picking $4$ distinct numbers from $S=\\{1,2,3,\\cdots,9,10\\}.$ $4$ numbers are randomly chosen from $S.$ She wins a prize if at least two of her numbers were $2$ of the randomly chosen numbers, and wins the grand prize if all four of her numbers were the randomly chosen numbers. The probability of her winning the grand prize given that she won a prize is $\\tfrac{m}{n}$ where $m$ and $n$ are relatively prime positive integers. Find $m+n$."
      ],
      "text/plain": [
       "<IPython.core.display.Markdown object>"
      ]
     },
     "metadata": {},
     "output_type": "display_data"
    },
    {
     "data": {
      "text/markdown": [
       "**Solution:** This is a conditional probability problem. Bayes' Theorem states that $$P(A|B)=\\dfrac{P(B|A)\\cdot P(A)}{P(B)}$$\n",
       "\n",
       "in other words, the probability of $A$ given $B$ is equal to the probability of $B$ given $A$ times the probability of $A$ divided by the probability of $B$. In our case, $A$ represents the probability of winning the grand prize, and $B$ represents the probability of winning a prize. Clearly, $P(B|A)=1$, since by winning the grand prize you automatically win a prize. Thus, we want to find $\\dfrac{P(A)}{P(B)}$.\n",
       "\n",
       "Let us calculate the probability of winning a prize. We do this through casework: how many of Jen's drawn numbers match the lottery's drawn numbers?\n",
       "\n",
       "To win a prize, Jen must draw at least $2$ numbers identical to the lottery. Thus, our cases are drawing $2$, $3$, or $4$ numbers identical.\n",
       "\n",
       "Let us first calculate the number of ways to draw exactly $2$ identical numbers to the lottery. Let Jen choose the numbers $a$, $b$, $c$, and $d$; we have $\\dbinom42$ ways to choose which $2$ of these $4$ numbers are identical to the lottery. We have now determined $2$ of the $4$ numbers drawn in the lottery; since the other $2$ numbers Jen chose can not be chosen by the lottery, the lottery now has $10-2-2=6$ numbers to choose the last $2$ numbers from. Thus, this case is $\\dbinom62$, so this case yields $\\dbinom42\\dbinom62=6\\cdot15=90$ possibilities.\n",
       "\n",
       "Next, let us calculate the number of ways to draw exactly $3$ identical numbers to the lottery. Again, let Jen choose $a$, $b$, $c$, and $d$. This time, we have $\\dbinom43$ ways to choose the identical numbers and again $6$ numbers left for the lottery to choose from; however, since $3$ of the lottery's numbers have already been determined, the lottery only needs to choose $1$ more number, so this is $\\dbinom61$. This case yields $\\dbinom43\\dbinom61=4\\cdot6=24$.\n",
       "\n",
       "Finally, let us calculate the number of ways to all $4$ numbers matching. There is actually just one way for this to happen.\n",
       "\n",
       "In total, we have $90+24+1=115$ ways to win a prize. The lottery has $\\dbinom{10}4=210$ possible combinations to draw, so the probability of winning a prize is $\\dfrac{115}{210}$. There is actually no need to simplify it or even evaluate $\\dbinom{10}4$ or actually even know that it has to be $\\dbinom{10}4$; it suffices to call it $a$ or some other variable, as it will cancel out later. However, let us just go through with this. The probability of winning a prize is $\\dfrac{115}{210}$. Note that the probability of winning a grand prize is just matching all $4$ numbers, which we already calculated to have $1$ possibility and thus have probability $\\dfrac1{210}$. Thus, our answer is $\\dfrac{\\frac1{210}}{\\frac{115}{210}}=\\dfrac1{115}$. Therefore, our answer is $1+115=\\boxed{116}$."
      ],
      "text/plain": [
       "<IPython.core.display.Markdown object>"
      ]
     },
     "metadata": {},
     "output_type": "display_data"
    },
    {
     "data": {
      "text/markdown": [
       "**Answer:** 116"
      ],
      "text/plain": [
       "<IPython.core.display.Markdown object>"
      ]
     },
     "metadata": {},
     "output_type": "display_data"
    }
   ],
   "source": [
    "# Display first few examples from the training split\n",
    "print(\"\\nFirst few examples from training split:\")\n",
    "\n",
    "display_n_examples(3)"
   ]
  }
 ],
 "metadata": {
  "kernelspec": {
   "display_name": ".venv",
   "language": "python",
   "name": "python3"
  },
  "language_info": {
   "codemirror_mode": {
    "name": "ipython",
    "version": 3
   },
   "file_extension": ".py",
   "mimetype": "text/x-python",
   "name": "python",
   "nbconvert_exporter": "python",
   "pygments_lexer": "ipython3",
   "version": "3.10.13"
  }
 },
 "nbformat": 4,
 "nbformat_minor": 2
}
